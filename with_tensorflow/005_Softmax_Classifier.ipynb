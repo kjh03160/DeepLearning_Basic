{
 "cells": [
  {
   "cell_type": "code",
   "execution_count": 1,
   "metadata": {},
   "outputs": [],
   "source": [
    "import tensorflow as tf\n",
    "import numpy as np\n",
    "\n",
    "\n",
    "x_data = [[1, 2, 1, 1],\n",
    "          [2, 1, 3, 2],\n",
    "          [3, 1, 3, 4],\n",
    "          [4, 1, 5, 5],\n",
    "          [1, 7, 5, 5],\n",
    "          [1, 2, 5, 6],\n",
    "          [1, 6, 6, 6],\n",
    "          [1, 7, 7, 7]]\n",
    "\n",
    "# 결과 값 -> One Hot Encoding 된 것\n",
    "y_data = [[0, 0, 1],\n",
    "          [0, 0, 1],\n",
    "          [0, 0, 1],\n",
    "          [0, 1, 0],\n",
    "          [0, 1, 0],\n",
    "          [0, 1, 0],\n",
    "          [1, 0, 0],\n",
    "          [1, 0, 0]]\n",
    "\n",
    "# np array 로 변환\n",
    "x_data = np.asarray(x_data, dtype = np.float32)\n",
    "y_data = np.asarray(y_data, dtype = np.float32)\n",
    "\n",
    "# 분류 클래스 개수\n",
    "nb_classes = 3"
   ]
  },
  {
   "cell_type": "code",
   "execution_count": 2,
   "metadata": {},
   "outputs": [
    {
     "name": "stdout",
     "output_type": "stream",
     "text": [
      "tf.Tensor([[9.9945992e-01 5.4010813e-04 1.7876129e-14]], shape=(1, 3), dtype=float32)\n"
     ]
    }
   ],
   "source": [
    "#Weight and bias setting\n",
    "W = tf.Variable(tf.random.normal((4, nb_classes)), name='weight')\n",
    "b = tf.Variable(tf.random.normal((nb_classes,)), name='bias')\n",
    "variables = [W, b]\n",
    "\n",
    "def hypothesis(X):\n",
    "    return tf.nn.softmax(tf.matmul(X, W) + b)\n",
    "\n",
    "sample_db = [[8,2,1,4]]\n",
    "sample_db = np.asarray(sample_db, dtype=np.float32)\n",
    "\n",
    "print(hypothesis(sample_db))"
   ]
  },
  {
   "cell_type": "code",
   "execution_count": 3,
   "metadata": {},
   "outputs": [
    {
     "name": "stdout",
     "output_type": "stream",
     "text": [
      "tf.Tensor(4.583419, shape=(), dtype=float32)\n"
     ]
    }
   ],
   "source": [
    "# Cross Entropy cost\n",
    "\n",
    "def cost_fn(X, Y):\n",
    "    logits = hypothesis(X)\n",
    "    cost = -tf.reduce_sum(Y * tf.math.log(logits), axis=1)\n",
    "    cost_mean = tf.reduce_mean(cost)\n",
    "    \n",
    "    return cost_mean\n",
    "\n",
    "print(cost_fn(x_data, y_data))"
   ]
  },
  {
   "cell_type": "code",
   "execution_count": 4,
   "metadata": {},
   "outputs": [
    {
     "name": "stdout",
     "output_type": "stream",
     "text": [
      "[<tf.Tensor: shape=(4, 3), dtype=float32, numpy=\n",
      "array([[ 1.1055049 , -0.36801058, -0.73749423],\n",
      "       [ 1.1339804 , -0.6602036 , -0.47377676],\n",
      "       [ 2.0523314 , -1.2384346 , -0.81389666],\n",
      "       [ 2.2746124 , -1.4722096 , -0.80240273]], dtype=float32)>, <tf.Tensor: shape=(3,), dtype=float32, numpy=array([ 0.4708627 , -0.10821137, -0.3626513 ], dtype=float32)>]\n"
     ]
    }
   ],
   "source": [
    "# 경사 하강\n",
    "def grad_fn(X, Y):\n",
    "    with tf.GradientTape() as tape:\n",
    "        cost = cost_fn(X, Y)\n",
    "        grads = tape.gradient(cost, variables) # variables = [W, b]\n",
    "        return grads\n",
    "\n",
    "print(grad_fn(x_data, y_data))"
   ]
  },
  {
   "cell_type": "code",
   "execution_count": 11,
   "metadata": {},
   "outputs": [
    {
     "name": "stdout",
     "output_type": "stream",
     "text": [
      "Loss at epoch 1 : 0.260073\n",
      "Loss at epoch 100 : 0.258693\n",
      "Loss at epoch 200 : 0.257313\n",
      "Loss at epoch 300 : 0.255948\n",
      "Loss at epoch 400 : 0.254596\n",
      "Loss at epoch 500 : 0.253258\n",
      "Loss at epoch 600 : 0.251933\n",
      "Loss at epoch 700 : 0.250621\n",
      "Loss at epoch 800 : 0.249322\n",
      "Loss at epoch 900 : 0.248036\n",
      "Loss at epoch 1000 : 0.246762\n",
      "Loss at epoch 1100 : 0.245501\n",
      "Loss at epoch 1200 : 0.244252\n",
      "Loss at epoch 1300 : 0.243015\n",
      "Loss at epoch 1400 : 0.241789\n",
      "Loss at epoch 1500 : 0.240576\n",
      "Loss at epoch 1600 : 0.239374\n",
      "Loss at epoch 1700 : 0.238183\n",
      "Loss at epoch 1800 : 0.237003\n",
      "Loss at epoch 1900 : 0.235835\n",
      "Loss at epoch 2000 : 0.234677\n"
     ]
    }
   ],
   "source": [
    "# Train\n",
    "\n",
    "def fit(X, Y, epochs = 2000, verbos = 100):\n",
    "    optimizer = tf.keras.optimizers.SGD(learning_rate = 0.01)\n",
    "    for i in range(epochs):\n",
    "        grads = grad_fn(X, Y)\n",
    "        optimizer.apply_gradients(zip(grads, variables))\n",
    "        if (i == 0) or ((i + 1) % verbos) == 0:\n",
    "            print(\"Loss at epoch %d : %f\" % (i + 1, cost_fn(X, Y).numpy()))\n",
    "            \n",
    "fit(x_data, y_data)"
   ]
  },
  {
   "cell_type": "code",
   "execution_count": 12,
   "metadata": {},
   "outputs": [
    {
     "name": "stdout",
     "output_type": "stream",
     "text": [
      "tf.Tensor(\n",
      "[[2.0466918e-05 5.1058838e-03 9.9487358e-01]\n",
      " [8.1330800e-04 1.1332937e-01 8.8585728e-01]\n",
      " [3.0823303e-05 2.2768815e-01 7.7228105e-01]\n",
      " [1.9954136e-04 7.9289848e-01 2.0690201e-01]\n",
      " [3.6923832e-01 6.1333704e-01 1.7424591e-02]\n",
      " [1.9432360e-01 8.0546701e-01 2.0940056e-04]\n",
      " [6.5928024e-01 3.4047416e-01 2.4559343e-04]\n",
      " [8.7037742e-01 1.2961389e-01 8.7303042e-06]], shape=(8, 3), dtype=float32)\n",
      "tf.Tensor([2 2 2 1 1 1 0 0], shape=(8,), dtype=int64)\n",
      "tf.Tensor([2 2 2 1 1 1 0 0], shape=(8,), dtype=int64)\n"
     ]
    }
   ],
   "source": [
    "a = hypothesis(x_data)\n",
    "\"\"\"\n",
    "변수가 2차원일 때\n",
    "\n",
    "argmax (변수,1) 행 방향으로 가장 큰 값의 열의 인덱스\n",
    "argmax (변수,0) 열 방향으로 가장 큰 값의 행의 인덱스 \n",
    "\"\"\"\n",
    "print(a)\n",
    "print(tf.argmax(a, 1)) # 가장 높은 예측 값 출력\n",
    "print(tf.argmax(y_data, 1))"
   ]
  }
 ],
 "metadata": {
  "kernelspec": {
   "display_name": "Python 3",
   "language": "python",
   "name": "python3"
  },
  "language_info": {
   "codemirror_mode": {
    "name": "ipython",
    "version": 3
   },
   "file_extension": ".py",
   "mimetype": "text/x-python",
   "name": "python",
   "nbconvert_exporter": "python",
   "pygments_lexer": "ipython3",
   "version": "3.7.5"
  }
 },
 "nbformat": 4,
 "nbformat_minor": 2
}
