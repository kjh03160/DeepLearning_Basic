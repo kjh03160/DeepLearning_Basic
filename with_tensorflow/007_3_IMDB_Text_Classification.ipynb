{
 "cells": [
  {
   "cell_type": "code",
   "execution_count": 1,
   "metadata": {},
   "outputs": [
    {
     "name": "stdout",
     "output_type": "stream",
     "text": [
      "Downloading data from https://storage.googleapis.com/tensorflow/tf-keras-datasets/imdb.npz\n",
      "17465344/17464789 [==============================] - 3s 0us/step\n",
      "Training entries: 25000, labels: 25000\n",
      "[1, 14, 22, 16, 43, 530, 973, 1622, 1385, 65, 458, 4468, 66, 3941, 4, 173, 36, 256, 5, 25, 100, 43, 838, 112, 50, 670, 2, 9, 35, 480, 284, 5, 150, 4, 172, 112, 167, 2, 336, 385, 39, 4, 172, 4536, 1111, 17, 546, 38, 13, 447, 4, 192, 50, 16, 6, 147, 2025, 19, 14, 22, 4, 1920, 4613, 469, 4, 22, 71, 87, 12, 16, 43, 530, 38, 76, 15, 13, 1247, 4, 22, 17, 515, 17, 12, 16, 626, 18, 2, 5, 62, 386, 12, 8, 316, 8, 106, 5, 4, 2223, 5244, 16, 480, 66, 3785, 33, 4, 130, 12, 16, 38, 619, 5, 25, 124, 51, 36, 135, 48, 25, 1415, 33, 6, 22, 12, 215, 28, 77, 52, 5, 14, 407, 16, 82, 2, 8, 4, 107, 117, 5952, 15, 256, 4, 2, 7, 3766, 5, 723, 36, 71, 43, 530, 476, 26, 400, 317, 46, 7, 4, 2, 1029, 13, 104, 88, 4, 381, 15, 297, 98, 32, 2071, 56, 26, 141, 6, 194, 7486, 18, 4, 226, 22, 21, 134, 476, 26, 480, 5, 144, 30, 5535, 18, 51, 36, 28, 224, 92, 25, 104, 4, 226, 65, 16, 38, 1334, 88, 12, 16, 283, 5, 16, 4472, 113, 103, 32, 15, 16, 5345, 19, 178, 32]\n"
     ]
    }
   ],
   "source": [
    "import numpy as np\n",
    "import tensorflow as tf\n",
    "from tensorflow import keras\n",
    "\n",
    "imdb = keras.datasets.imdb\n",
    "(train_data, train_labels), (test_data, test_labels) = imdb.load_data(num_words=10000)\n",
    "print(\"Training entries: {}, labels: {}\".format(len(train_data), len(train_labels)))\n",
    "print(train_data[0])"
   ]
  },
  {
   "cell_type": "code",
   "execution_count": 4,
   "metadata": {},
   "outputs": [],
   "source": [
    "word_index = imdb.get_word_index()\n",
    "\n",
    "# 전처리\n",
    "word_index = {k:(v+3) for k,v in word_index.items()}\n",
    "word_index[\"<PAD>\"] = 0\n",
    "word_index[\"<START>\"] = 1\n",
    "word_index[\"<UNK>\"] = 2  # unknown\n",
    "word_index[\"<UNUSED>\"] = 3"
   ]
  },
  {
   "cell_type": "code",
   "execution_count": 5,
   "metadata": {},
   "outputs": [
    {
     "data": {
      "text/plain": [
       "\"<START> worst mistake of my life br br i picked this movie up at target for 5 because i figured hey it's sandler i can get some cheap laughs i was wrong completely wrong mid way through the film all three of my friends were asleep and i was still suffering worst plot worst script worst movie i have ever seen i wanted to hit my head up against a wall for an hour then i'd stop and you know why because it felt damn good upon bashing my head in i stuck that damn movie in the <UNK> and watched it burn and that felt better than anything else i've ever done it took american psycho army of darkness and kill bill just to get over that crap i hate you sandler for actually going through with this and ruining a whole day of my life\""
      ]
     },
     "execution_count": 5,
     "metadata": {},
     "output_type": "execute_result"
    }
   ],
   "source": [
    "reverse_word_index = dict([(value, key) for (key, value) in word_index.items()])\n",
    "\n",
    "def decode_review(text):\n",
    "    return ' '.join([reverse_word_index.get(i, '?') for i in text])\n",
    "\n",
    "decode_review(train_data[4])"
   ]
  },
  {
   "cell_type": "code",
   "execution_count": 6,
   "metadata": {},
   "outputs": [
    {
     "name": "stdout",
     "output_type": "stream",
     "text": [
      "256 256\n",
      "[   1   14   22   16   43  530  973 1622 1385   65  458 4468   66 3941\n",
      "    4  173   36  256    5   25  100   43  838  112   50  670    2    9\n",
      "   35  480  284    5  150    4  172  112  167    2  336  385   39    4\n",
      "  172 4536 1111   17  546   38   13  447    4  192   50   16    6  147\n",
      " 2025   19   14   22    4 1920 4613  469    4   22   71   87   12   16\n",
      "   43  530   38   76   15   13 1247    4   22   17  515   17   12   16\n",
      "  626   18    2    5   62  386   12    8  316    8  106    5    4 2223\n",
      " 5244   16  480   66 3785   33    4  130   12   16   38  619    5   25\n",
      "  124   51   36  135   48   25 1415   33    6   22   12  215   28   77\n",
      "   52    5   14  407   16   82    2    8    4  107  117 5952   15  256\n",
      "    4    2    7 3766    5  723   36   71   43  530  476   26  400  317\n",
      "   46    7    4    2 1029   13  104   88    4  381   15  297   98   32\n",
      " 2071   56   26  141    6  194 7486   18    4  226   22   21  134  476\n",
      "   26  480    5  144   30 5535   18   51   36   28  224   92   25  104\n",
      "    4  226   65   16   38 1334   88   12   16  283    5   16 4472  113\n",
      "  103   32   15   16 5345   19  178   32    0    0    0    0    0    0\n",
      "    0    0    0    0    0    0    0    0    0    0    0    0    0    0\n",
      "    0    0    0    0    0    0    0    0    0    0    0    0    0    0\n",
      "    0    0    0    0]\n"
     ]
    }
   ],
   "source": [
    "# 학습과 평가를 위해 동일길이인 256길이의 단어로 \n",
    "# PAD값을 주어 맞춰줌 (뒤의 길이는 0값으로 맞춰줌)\n",
    "\n",
    "\n",
    "train_data = keras.preprocessing.sequence.pad_sequences(train_data,\n",
    "                                                        value=word_index[\"<PAD>\"],\n",
    "                                                        padding='post',\n",
    "                                                        maxlen=256)\n",
    "\n",
    "test_data = keras.preprocessing.sequence.pad_sequences(test_data,\n",
    "                                                       value=word_index[\"<PAD>\"],\n",
    "                                                       padding='post',\n",
    "                                                       maxlen=256)\n",
    "\n",
    "print(len(train_data[0]), len(test_data[0]))\n",
    "print(train_data[0])"
   ]
  },
  {
   "cell_type": "code",
   "execution_count": 7,
   "metadata": {},
   "outputs": [
    {
     "name": "stdout",
     "output_type": "stream",
     "text": [
      "Model: \"sequential\"\n",
      "_________________________________________________________________\n",
      "Layer (type)                 Output Shape              Param #   \n",
      "=================================================================\n",
      "embedding (Embedding)        (None, None, 16)          160000    \n",
      "_________________________________________________________________\n",
      "global_average_pooling1d (Gl (None, 16)                0         \n",
      "_________________________________________________________________\n",
      "dense (Dense)                (None, 16)                272       \n",
      "_________________________________________________________________\n",
      "dense_1 (Dense)              (None, 1)                 17        \n",
      "=================================================================\n",
      "Total params: 160,289\n",
      "Trainable params: 160,289\n",
      "Non-trainable params: 0\n",
      "_________________________________________________________________\n"
     ]
    }
   ],
   "source": [
    "# Tensorflow keras API를 통해 모델에 대한 정의\n",
    "# 입력 Size와 학습시킬 Layer의 크기와 Activation Function 정의\n",
    "vocab_size = 10000\n",
    "\n",
    "model = keras.Sequential()\n",
    "model.add(keras.layers.Embedding(vocab_size, 16))\n",
    "model.add(keras.layers.GlobalAveragePooling1D())\n",
    "model.add(keras.layers.Dense(16, activation=tf.nn.relu))\n",
    "model.add(keras.layers.Dense(1, activation=tf.nn.sigmoid))\n",
    "\n",
    "model.summary()"
   ]
  },
  {
   "cell_type": "code",
   "execution_count": 8,
   "metadata": {},
   "outputs": [],
   "source": [
    "# Adam Optimizer과 Cross Entropy Loss 선언\n",
    "model.compile(optimizer='adam',\n",
    "              loss='binary_crossentropy',\n",
    "              metrics=['accuracy'])"
   ]
  },
  {
   "cell_type": "code",
   "execution_count": 9,
   "metadata": {},
   "outputs": [
    {
     "name": "stdout",
     "output_type": "stream",
     "text": [
      "Train on 15000 samples, validate on 10000 samples\n",
      "Epoch 1/40\n",
      "15000/15000 [==============================] - 4s 238us/sample - loss: 0.6924 - accuracy: 0.5237 - val_loss: 0.6911 - val_accuracy: 0.4963\n",
      "Epoch 2/40\n",
      "15000/15000 [==============================] - 2s 132us/sample - loss: 0.6876 - accuracy: 0.5763 - val_loss: 0.6836 - val_accuracy: 0.6914\n",
      "Epoch 3/40\n",
      "15000/15000 [==============================] - ETA: 0s - loss: 0.6761 - accuracy: 0.71 - 2s 122us/sample - loss: 0.6759 - accuracy: 0.7135 - val_loss: 0.6690 - val_accuracy: 0.7379\n",
      "Epoch 4/40\n",
      "15000/15000 [==============================] - 2s 120us/sample - loss: 0.6551 - accuracy: 0.7568 - val_loss: 0.6449 - val_accuracy: 0.7572\n",
      "Epoch 5/40\n",
      "15000/15000 [==============================] - 2s 124us/sample - loss: 0.6234 - accuracy: 0.7744 - val_loss: 0.6114 - val_accuracy: 0.7792\n",
      "Epoch 6/40\n",
      "15000/15000 [==============================] - 2s 123us/sample - loss: 0.5826 - accuracy: 0.8048 - val_loss: 0.5710 - val_accuracy: 0.8020\n",
      "Epoch 7/40\n",
      "15000/15000 [==============================] - 2s 124us/sample - loss: 0.5361 - accuracy: 0.8271 - val_loss: 0.5279 - val_accuracy: 0.8149\n",
      "Epoch 8/40\n",
      "15000/15000 [==============================] - 2s 123us/sample - loss: 0.4887 - accuracy: 0.8446 - val_loss: 0.4855 - val_accuracy: 0.8334\n",
      "Epoch 9/40\n",
      "15000/15000 [==============================] - 2s 120us/sample - loss: 0.4439 - accuracy: 0.8597 - val_loss: 0.4490 - val_accuracy: 0.8404\n",
      "Epoch 10/40\n",
      "15000/15000 [==============================] - 2s 122us/sample - loss: 0.4049 - accuracy: 0.8711 - val_loss: 0.4168 - val_accuracy: 0.8496\n",
      "Epoch 11/40\n",
      "15000/15000 [==============================] - 2s 120us/sample - loss: 0.3713 - accuracy: 0.8813 - val_loss: 0.3911 - val_accuracy: 0.8570\n",
      "Epoch 12/40\n",
      "15000/15000 [==============================] - 2s 122us/sample - loss: 0.3425 - accuracy: 0.8869 - val_loss: 0.3704 - val_accuracy: 0.8626\n",
      "Epoch 13/40\n",
      "15000/15000 [==============================] - 2s 121us/sample - loss: 0.3187 - accuracy: 0.8942 - val_loss: 0.3545 - val_accuracy: 0.8658\n",
      "Epoch 14/40\n",
      "15000/15000 [==============================] - 2s 128us/sample - loss: 0.2985 - accuracy: 0.8979 - val_loss: 0.3418 - val_accuracy: 0.8696\n",
      "Epoch 15/40\n",
      "15000/15000 [==============================] - 2s 136us/sample - loss: 0.2807 - accuracy: 0.9037 - val_loss: 0.3294 - val_accuracy: 0.8737\n",
      "Epoch 16/40\n",
      "15000/15000 [==============================] - 2s 130us/sample - loss: 0.2651 - accuracy: 0.9092 - val_loss: 0.3204 - val_accuracy: 0.8768\n",
      "Epoch 17/40\n",
      "15000/15000 [==============================] - 2s 127us/sample - loss: 0.2510 - accuracy: 0.9145 - val_loss: 0.3128 - val_accuracy: 0.8780\n",
      "Epoch 18/40\n",
      "15000/15000 [==============================] - 2s 133us/sample - loss: 0.2381 - accuracy: 0.9192 - val_loss: 0.3069 - val_accuracy: 0.8791\n",
      "Epoch 19/40\n",
      "15000/15000 [==============================] - 2s 127us/sample - loss: 0.2267 - accuracy: 0.9227 - val_loss: 0.3017 - val_accuracy: 0.8810\n",
      "Epoch 20/40\n",
      "15000/15000 [==============================] - 2s 127us/sample - loss: 0.2162 - accuracy: 0.9271 - val_loss: 0.2975 - val_accuracy: 0.8820\n",
      "Epoch 21/40\n",
      "15000/15000 [==============================] - 2s 122us/sample - loss: 0.2064 - accuracy: 0.9285 - val_loss: 0.2947 - val_accuracy: 0.8827\n",
      "Epoch 22/40\n",
      "15000/15000 [==============================] - ETA: 0s - loss: 0.1979 - accuracy: 0.9327 ETA: 1s - ETA: 0s - loss: 0.1976 - accuracy: 0. - 2s 127us/sample - loss: 0.1974 - accuracy: 0.9331 - val_loss: 0.2927 - val_accuracy: 0.8822\n",
      "Epoch 23/40\n",
      "15000/15000 [==============================] - 2s 128us/sample - loss: 0.1890 - accuracy: 0.9371 - val_loss: 0.2900 - val_accuracy: 0.8840\n",
      "Epoch 24/40\n",
      "15000/15000 [==============================] - 2s 125us/sample - loss: 0.1818 - accuracy: 0.9397 - val_loss: 0.2896 - val_accuracy: 0.8844\n",
      "Epoch 25/40\n",
      "15000/15000 [==============================] - 2s 122us/sample - loss: 0.1742 - accuracy: 0.9424 - val_loss: 0.2869 - val_accuracy: 0.8852\n",
      "Epoch 26/40\n",
      "15000/15000 [==============================] - 2s 123us/sample - loss: 0.1671 - accuracy: 0.9455 - val_loss: 0.2864 - val_accuracy: 0.8844\n",
      "Epoch 27/40\n",
      "15000/15000 [==============================] - 2s 124us/sample - loss: 0.1601 - accuracy: 0.9489 - val_loss: 0.2861 - val_accuracy: 0.8845\n",
      "Epoch 28/40\n",
      "15000/15000 [==============================] - 2s 125us/sample - loss: 0.1534 - accuracy: 0.9529 - val_loss: 0.2861 - val_accuracy: 0.8856\n",
      "Epoch 29/40\n",
      "15000/15000 [==============================] - 2s 124us/sample - loss: 0.1474 - accuracy: 0.9549 - val_loss: 0.2867 - val_accuracy: 0.8861\n",
      "Epoch 30/40\n",
      "15000/15000 [==============================] - 2s 128us/sample - loss: 0.1419 - accuracy: 0.9573 - val_loss: 0.2872 - val_accuracy: 0.8861\n",
      "Epoch 31/40\n",
      "15000/15000 [==============================] - 2s 139us/sample - loss: 0.1366 - accuracy: 0.9592 - val_loss: 0.2902 - val_accuracy: 0.8845\n",
      "Epoch 32/40\n",
      "15000/15000 [==============================] - 2s 124us/sample - loss: 0.1314 - accuracy: 0.9615 - val_loss: 0.2895 - val_accuracy: 0.8871\n",
      "Epoch 33/40\n",
      "15000/15000 [==============================] - 2s 120us/sample - loss: 0.1260 - accuracy: 0.9639 - val_loss: 0.2910 - val_accuracy: 0.8856\n",
      "Epoch 34/40\n",
      "15000/15000 [==============================] - 2s 120us/sample - loss: 0.1213 - accuracy: 0.9653 - val_loss: 0.2941 - val_accuracy: 0.8857\n",
      "Epoch 35/40\n",
      "15000/15000 [==============================] - 2s 120us/sample - loss: 0.1173 - accuracy: 0.9674 - val_loss: 0.2951 - val_accuracy: 0.8836\n",
      "Epoch 36/40\n",
      "15000/15000 [==============================] - 2s 119us/sample - loss: 0.1127 - accuracy: 0.9689 - val_loss: 0.2979 - val_accuracy: 0.8834\n",
      "Epoch 37/40\n",
      "15000/15000 [==============================] - 2s 122us/sample - loss: 0.1087 - accuracy: 0.9704 - val_loss: 0.2997 - val_accuracy: 0.8850\n",
      "Epoch 38/40\n",
      "15000/15000 [==============================] - 2s 132us/sample - loss: 0.1042 - accuracy: 0.9719 - val_loss: 0.3037 - val_accuracy: 0.8835\n",
      "Epoch 39/40\n",
      "15000/15000 [==============================] - 2s 137us/sample - loss: 0.1012 - accuracy: 0.9732 - val_loss: 0.3048 - val_accuracy: 0.8832\n",
      "Epoch 40/40\n",
      "15000/15000 [==============================] - 2s 143us/sample - loss: 0.0969 - accuracy: 0.9746 - val_loss: 0.3079 - val_accuracy: 0.8832\n"
     ]
    }
   ],
   "source": [
    "# 모델을 평가할 Test 데이타에 대한 정의(10000을 기준으로 학습과 평가 수행)\n",
    "\n",
    "x_val = train_data[:10000]\n",
    "partial_x_train = train_data[10000:]\n",
    "\n",
    "y_val = train_labels[:10000]\n",
    "partial_y_train = train_labels[10000:]\n",
    "\n",
    "history = model.fit(partial_x_train,\n",
    "                    partial_y_train,\n",
    "                    epochs=40,\n",
    "                    batch_size=512,\n",
    "                    validation_data=(x_val, y_val),\n",
    "                    verbose=1)"
   ]
  },
  {
   "cell_type": "code",
   "execution_count": 10,
   "metadata": {},
   "outputs": [
    {
     "name": "stdout",
     "output_type": "stream",
     "text": [
      "25000/25000 [==============================] - 3s 121us/sample - loss: 0.3286 - accuracy: 0.8722\n",
      "[0.32860618665218355, 0.87224]\n"
     ]
    }
   ],
   "source": [
    "results = model.evaluate(test_data, test_labels)\n",
    "print(results)"
   ]
  }
 ],
 "metadata": {
  "kernelspec": {
   "display_name": "Python 3",
   "language": "python",
   "name": "python3"
  },
  "language_info": {
   "codemirror_mode": {
    "name": "ipython",
    "version": 3
   },
   "file_extension": ".py",
   "mimetype": "text/x-python",
   "name": "python",
   "nbconvert_exporter": "python",
   "pygments_lexer": "ipython3",
   "version": "3.7.5"
  }
 },
 "nbformat": 4,
 "nbformat_minor": 2
}
