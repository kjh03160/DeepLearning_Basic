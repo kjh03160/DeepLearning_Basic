{
 "cells": [
  {
   "cell_type": "markdown",
   "metadata": {},
   "source": [
    "- Hypothesis : $H(x) = Wx$ \n",
    "- Cost :  $cost(W) = \\frac 1 m \\textstyle \\sum_{i=1}^m (Wx_i - y_i)^2$ "
   ]
  },
  {
   "cell_type": "code",
   "execution_count": 1,
   "metadata": {},
   "outputs": [
    {
     "name": "stdout",
     "output_type": "stream",
     "text": [
      "-3.000 |    5.33333\n",
      "-2.429 |    3.91837\n",
      "-1.857 |    2.72109\n",
      "-1.286 |    1.74150\n",
      "-0.714 |    0.97959\n",
      "-0.143 |    0.43537\n",
      " 0.429 |    0.10884\n",
      " 1.000 |    0.00000\n",
      " 1.571 |    0.10884\n",
      " 2.143 |    0.43537\n",
      " 2.714 |    0.97959\n",
      " 3.286 |    1.74150\n",
      " 3.857 |    2.72109\n",
      " 4.429 |    3.91837\n",
      " 5.000 |    5.33333\n"
     ]
    }
   ],
   "source": [
    "import numpy as np\n",
    "\n",
    "X = np.array([1, 2, 3])\n",
    "Y = np.array([1, 2, 3])\n",
    "\n",
    "def cost_func(W, X, Y):\n",
    "    c = 0\n",
    "    for i in range(len(X)):\n",
    "        c += (W * X[i] - Y[i]) ** 2\n",
    "        return c / len(X)\n",
    "\n",
    "W_ = []\n",
    "cost_ = []\n",
    "for feed_W in np.linspace(-3, 5, num = 15):  # -3과 5 사이의 구간을 15개로 나눈다\n",
    "    curr_cost = cost_func(feed_W, X, Y)\n",
    "    W_.append(feed_W)\n",
    "    cost_.append(curr_cost)\n",
    "    print(\"{:6.3f} | {:10.5f}\".format(feed_W, curr_cost))"
   ]
  },
  {
   "cell_type": "code",
   "execution_count": 2,
   "metadata": {},
   "outputs": [
    {
     "data": {
      "text/plain": [
       "<Figure size 640x480 with 1 Axes>"
      ]
     },
     "metadata": {},
     "output_type": "display_data"
    }
   ],
   "source": [
    "import matplotlib.pyplot as plt\n",
    "\n",
    "plt.plot(W_, cost_)\n",
    "plt.show()"
   ]
  },
  {
   "cell_type": "code",
   "execution_count": 3,
   "metadata": {},
   "outputs": [
    {
     "name": "stdout",
     "output_type": "stream",
     "text": [
      "-3.000 |   74.66667\n",
      "-2.429 |   54.85714\n",
      "-1.857 |   38.09524\n",
      "-1.286 |   24.38095\n",
      "-0.714 |   13.71429\n",
      "-0.143 |    6.09524\n",
      " 0.429 |    1.52381\n",
      " 1.000 |    0.00000\n",
      " 1.571 |    1.52381\n",
      " 2.143 |    6.09524\n",
      " 2.714 |   13.71429\n",
      " 3.286 |   24.38095\n",
      " 3.857 |   38.09524\n",
      " 4.429 |   54.85714\n",
      " 5.000 |   74.66667\n"
     ]
    },
    {
     "data": {
      "image/png": "[encoded data removed]",
      "text/plain": [
       "<Figure size 432x288 with 1 Axes>"
      ]
     },
     "metadata": {
      "needs_background": "light"
     },
     "output_type": "display_data"
    }
   ],
   "source": [
    "# tensorflow\n",
    "import tensorflow as tf\n",
    "\n",
    "def cost_func_tensor(W, X, Y):\n",
    "    hypothesis = X * W\n",
    "    return tf.reduce_mean(tf.square(hypothesis - Y))\n",
    "\n",
    "W_values = np.linspace(-3, 5, num = 15)\n",
    "cost_values = []\n",
    "\n",
    "for feed_W in W_values:\n",
    "    curr_cost = cost_func_tensor(feed_W, X, Y)\n",
    "    cost_values.append(curr_cost)\n",
    "    print(\"{:6.3f} | {:10.5f}\".format(feed_W, curr_cost))\n",
    "\n",
    "plt.plot(W_values, cost_values)\n",
    "plt.show()"
   ]
  },
  {
   "cell_type": "markdown",
   "metadata": {},
   "source": [
    "## Gradient descent\n",
    "----\n",
    "\n",
    "### $cost(W) = \\frac 1 m \\textstyle \\sum_{i=1}^m /(Wx_i - y_i)^2$ \n",
    "\n",
    "$$\\Downarrow 미분$$  \n",
    "\n",
    "###  $W := W - \\alpha \\frac 1 m \\textstyle \\sum_{i=1}^m (Wx_i - y_i) x_i$ "
   ]
  },
  {
   "cell_type": "markdown",
   "metadata": {},
   "source": [
    "```alpha = 0.01\n",
    "gradient = tf.reduce_mean(tf.multiply(tf.multiply(W, X) - Y, X))\n",
    "descent = W - tf.multiply(alpha, gradient)\n",
    "W.assign(descent)```"
   ]
  },
  {
   "cell_type": "code",
   "execution_count": 4,
   "metadata": {
    "scrolled": false
   },
   "outputs": [
    {
     "name": "stdout",
     "output_type": "stream",
     "text": [
      "    0 | 11716.3086 |  48.767971\n",
      "   10 |  4504.9126 |  30.619968\n",
      "   20 |  1732.1364 |  19.366755\n",
      "   30 |   666.0052 |  12.388859\n",
      "   40 |   256.0785 |   8.062004\n",
      "   50 |    98.4620 |   5.379007\n",
      "   60 |    37.8586 |   3.715335\n",
      "   70 |    14.5566 |   2.683725\n",
      "   80 |     5.5970 |   2.044044\n",
      "   90 |     2.1520 |   1.647391\n",
      "  100 |     0.8275 |   1.401434\n",
      "  110 |     0.3182 |   1.248922\n",
      "  120 |     0.1223 |   1.154351\n",
      "  130 |     0.0470 |   1.095710\n",
      "  140 |     0.0181 |   1.059348\n",
      "  150 |     0.0070 |   1.036801\n",
      "  160 |     0.0027 |   1.022819\n",
      "  170 |     0.0010 |   1.014150\n",
      "  180 |     0.0004 |   1.008774\n",
      "  190 |     0.0002 |   1.005441\n",
      "  200 |     0.0001 |   1.003374\n",
      "  210 |     0.0000 |   1.002092\n",
      "  220 |     0.0000 |   1.001297\n",
      "  230 |     0.0000 |   1.000804\n",
      "  240 |     0.0000 |   1.000499\n",
      "  250 |     0.0000 |   1.000309\n",
      "  260 |     0.0000 |   1.000192\n",
      "  270 |     0.0000 |   1.000119\n",
      "  280 |     0.0000 |   1.000074\n",
      "  290 |     0.0000 |   1.000046\n"
     ]
    }
   ],
   "source": [
    "tf.random.set_seed(0)  # 똑같은 값을 보장하기 위해\n",
    "\n",
    "x_data = [1., 2., 3., 4.]\n",
    "y_data = [1., 3., 5., 7.]\n",
    "\n",
    "W = tf.Variable(tf.random.normal([1],  -100., 100.))  # 정규 분포에서 임의의 값을 출력\n",
    "\n",
    "for step in range(300):\n",
    "    hypothesis = W * X\n",
    "    cost = tf.reduce_mean(tf.square(hypothesis - Y))  # square  => 제곱\n",
    "    \n",
    "    alpha = 0.01\n",
    "    gradient = tf.reduce_mean(tf.multiply(tf.multiply(W, X) - Y, X))\n",
    "    descent = W - tf.multiply(alpha, gradient)\n",
    "    W.assign(descent)\n",
    "    \n",
    "    if step % 10 == 0:\n",
    "        print(\"{:5} | {:10.4f} | {:10.6f}\". format(\n",
    "        step, cost.numpy(), W.numpy()[0]))"
   ]
  },
  {
   "cell_type": "markdown",
   "metadata": {},
   "source": [
    "# Liner regression Summary\n",
    "## 1) Hypothesis\n",
    "$$ H(x) = Wx + b $$\n",
    "## 2) Cost function\n",
    "$$ cost(W)=\\frac { 1 }{ m } \\sum _{i=1}^{m}{ { (W{ x }^{ i }-y^{ i } })^{ 2 } }  $$\n",
    "## 3) Gradient descent\n",
    "$$ W := W-\\alpha \\frac { \\partial  }{ \\partial W } cost(W) $$"
   ]
  }
 ],
 "metadata": {
  "kernelspec": {
   "display_name": "Python 3",
   "language": "python",
   "name": "python3"
  },
  "language_info": {
   "codemirror_mode": {
    "name": "ipython",
    "version": 3
   },
   "file_extension": ".py",
   "mimetype": "text/x-python",
   "name": "python",
   "nbconvert_exporter": "python",
   "pygments_lexer": "ipython3",
   "version": "3.7.5"
  }
 },
 "nbformat": 4,
 "nbformat_minor": 2
}
