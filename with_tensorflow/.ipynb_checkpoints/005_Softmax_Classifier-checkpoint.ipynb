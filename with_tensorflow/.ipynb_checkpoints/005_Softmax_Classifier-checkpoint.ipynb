{
 "cells": [
  {
   "cell_type": "code",
   "execution_count": 21,
   "metadata": {},
   "outputs": [],
   "source": [
    "import tensorflow as tf\n",
    "import numpy as np\n",
    "\n",
    "\n",
    "x_data = [[1, 2, 1, 1],\n",
    "          [2, 1, 3, 2],\n",
    "          [3, 1, 3, 4],\n",
    "          [4, 1, 5, 5],\n",
    "          [1, 7, 5, 5],\n",
    "          [1, 2, 5, 6],\n",
    "          [1, 6, 6, 6],\n",
    "          [1, 7, 7, 7]]\n",
    "\n",
    "# 결과 값 -> One Hot Encoding 된 것\n",
    "y_data = [[0, 0, 1],\n",
    "          [0, 0, 1],\n",
    "          [0, 0, 1],\n",
    "          [0, 1, 0],\n",
    "          [0, 1, 0],\n",
    "          [0, 1, 0],\n",
    "          [1, 0, 0],\n",
    "          [1, 0, 0]]\n",
    "\n",
    "# np array 로 변환\n",
    "x_data = np.asarray(x_data, dtype = np.float32)\n",
    "y_data = np.asarray(y_data, dtype = np.float32)\n",
    "\n",
    "# 분류 클래스 개수\n",
    "nb_classes = 3"
   ]
  },
  {
   "cell_type": "code",
   "execution_count": 22,
   "metadata": {},
   "outputs": [
    {
     "name": "stdout",
     "output_type": "stream",
     "text": [
      "tf.Tensor([[9.965413e-01 3.458593e-03 8.194138e-08]], shape=(1, 3), dtype=float32)\n"
     ]
    }
   ],
   "source": [
    "#Weight and bias setting\n",
    "W = tf.Variable(tf.random.normal((4, nb_classes)), name='weight')\n",
    "b = tf.Variable(tf.random.normal((nb_classes,)), name='bias')\n",
    "variables = [W, b]\n",
    "\n",
    "def hypothesis(X):\n",
    "    return tf.nn.softmax(tf.matmul(X, W) + b)\n",
    "\n",
    "sample_db = [[8,2,1,4]]\n",
    "sample_db = np.asarray(sample_db, dtype=np.float32)\n",
    "\n",
    "print(hypothesis(sample_db))"
   ]
  },
  {
   "cell_type": "code",
   "execution_count": 23,
   "metadata": {},
   "outputs": [
    {
     "name": "stdout",
     "output_type": "stream",
     "text": [
      "tf.Tensor(6.2905884, shape=(), dtype=float32)\n"
     ]
    }
   ],
   "source": [
    "# Cross Entropy cost\n",
    "\n",
    "def cost_fn(X, Y):\n",
    "    logits = hypothesis(X)\n",
    "    cost = -tf.reduce_sum(Y * tf.math.log(logits), axis=1)\n",
    "    cost_mean = tf.reduce_mean(cost)\n",
    "    \n",
    "    return cost_mean\n",
    "\n",
    "print(cost_fn(x_data, y_data))"
   ]
  },
  {
   "cell_type": "code",
   "execution_count": 24,
   "metadata": {},
   "outputs": [
    {
     "name": "stdout",
     "output_type": "stream",
     "text": [
      "[<tf.Tensor: shape=(4, 3), dtype=float32, numpy=\n",
      "array([[ 1.3217456 , -0.57196474, -0.7497809 ],\n",
      "       [ 1.1932844 , -0.6934653 , -0.499819  ],\n",
      "       [ 2.3749762 , -1.500279  , -0.8746973 ],\n",
      "       [ 2.510087  , -1.6353073 , -0.87477934]], dtype=float32)>, <tf.Tensor: shape=(3,), dtype=float32, numpy=array([ 0.58201087, -0.20714378, -0.3748671 ], dtype=float32)>]\n"
     ]
    }
   ],
   "source": [
    "# 경사 하강\n",
    "def grad_fn(X, Y):\n",
    "    with tf.GradientTape() as tape:\n",
    "        cost = cost_fn(X, Y)\n",
    "        grads = tape.gradient(cost, variables) # variables = [W, b]\n",
    "        return grads\n",
    "\n",
    "print(grad_fn(x_data, y_data))"
   ]
  },
  {
   "cell_type": "code",
   "execution_count": 26,
   "metadata": {},
   "outputs": [
    {
     "name": "stdout",
     "output_type": "stream",
     "text": [
      "Loss at epoch 1 : 5.848388\n",
      "Loss at epoch 100 : 1.761194\n",
      "Loss at epoch 200 : 1.310909\n",
      "Loss at epoch 300 : 1.068762\n",
      "Loss at epoch 400 : 0.910266\n",
      "Loss at epoch 500 : 0.806897\n",
      "Loss at epoch 600 : 0.738685\n",
      "Loss at epoch 700 : 0.691311\n",
      "Loss at epoch 800 : 0.656383\n",
      "Loss at epoch 900 : 0.629280\n",
      "Loss at epoch 1000 : 0.607388\n",
      "Loss at epoch 1100 : 0.589140\n",
      "Loss at epoch 1200 : 0.573550\n",
      "Loss at epoch 1300 : 0.559964\n",
      "Loss at epoch 1400 : 0.547930\n",
      "Loss at epoch 1500 : 0.537128\n",
      "Loss at epoch 1600 : 0.527323\n",
      "Loss at epoch 1700 : 0.518338\n",
      "Loss at epoch 1800 : 0.510039\n",
      "Loss at epoch 1900 : 0.502320\n",
      "Loss at epoch 2000 : 0.495098\n"
     ]
    }
   ],
   "source": [
    "# Train\n",
    "\n",
    "def fit(X, Y, epochs = 2000, verbos = 100):\n",
    "    optimizer = tf.keras.optimizers.SGD(learning_rate = 0.01)\n",
    "    for i in range(epochs):\n",
    "        grads = grad_fn(X, Y)\n",
    "        optimizer.apply_gradients(zip(grads, variables))\n",
    "        if (i == 0) or ((i + 1) % verbos) == 0:\n",
    "            print(\"Loss at epoch %d : %f\" % (i + 1, cost_fn(X, Y).numpy()))\n",
    "            \n",
    "fit(x_data, y_data)"
   ]
  }
 ],
 "metadata": {
  "kernelspec": {
   "display_name": "Python 3",
   "language": "python",
   "name": "python3"
  },
  "language_info": {
   "codemirror_mode": {
    "name": "ipython",
    "version": 3
   },
   "file_extension": ".py",
   "mimetype": "text/x-python",
   "name": "python",
   "nbconvert_exporter": "python",
   "pygments_lexer": "ipython3",
   "version": "3.7.5"
  }
 },
 "nbformat": 4,
 "nbformat_minor": 2
}
